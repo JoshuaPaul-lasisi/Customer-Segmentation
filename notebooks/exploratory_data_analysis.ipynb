{
 "cells": [
  {
   "cell_type": "code",
   "execution_count": null,
   "metadata": {},
   "outputs": [],
   "source": [
    "# Import necessary libraries\n",
    "import pandas as pd\n",
    "import seaborn as sns\n",
    "import matplotlib.pyplot as plt"
   ]
  },
  {
   "cell_type": "code",
   "execution_count": null,
   "metadata": {},
   "outputs": [],
   "source": [
    "# Load data\n",
    "df = pd.read_csv('../data/raw/customer_data.csv', encoding='ISO-8859-1')"
   ]
  },
  {
   "cell_type": "code",
   "execution_count": null,
   "metadata": {},
   "outputs": [],
   "source": [
    "# Handle missing values and filter data\n",
    "df = df.dropna(subset=['CustomerID'])\n",
    "df = df[(df['Quantity'] > 0) & (df['UnitPrice'] > 0)]"
   ]
  },
  {
   "cell_type": "code",
   "execution_count": null,
   "metadata": {},
   "outputs": [],
   "source": [
    "# Create TotalPrice feature\n",
    "df['TotalPrice'] = df['Quantity'] * df['UnitPrice']\n",
    "\n",
    "# Plot distribution of TotalPrice\n",
    "plt.figure(figsize=(10, 6))\n",
    "sns.histplot(df['TotalPrice'], bins=50, kde=True)\n",
    "plt.title('Distribution of Total Purchase Amount')\n",
    "plt.show()"
   ]
  },
  {
   "cell_type": "code",
   "execution_count": null,
   "metadata": {},
   "outputs": [],
   "source": [
    "# Group by CustomerID and perform summary statistics\n",
    "customer_data = df.groupby('CustomerID').agg({\n",
    "    'InvoiceNo': 'count',    # Number of purchases\n",
    "    'Quantity': 'sum',       # Total items purchased\n",
    "    'TotalPrice': 'sum'      # Total money spent\n",
    "}).rename(columns={'InvoiceNo': 'NumPurchases', 'Quantity': 'TotalQuantity'})\n",
    "\n",
    "customer_data.describe()"
   ]
  }
 ],
 "metadata": {
  "language_info": {
   "name": "python"
  }
 },
 "nbformat": 4,
 "nbformat_minor": 2
}
