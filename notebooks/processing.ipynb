{
 "cells": [
  {
   "cell_type": "code",
   "execution_count": 3,
   "metadata": {},
   "outputs": [
    {
     "name": "stdout",
     "output_type": "stream",
     "text": [
      "Customer data successfully saved to ../data/processed/customer_data.csv\n"
     ]
    }
   ],
   "source": [
    "# Imports\n",
    "import pandas as pd\n",
    "\n",
    "# Load the raw dataset\n",
    "df_raw = pd.read_csv('../data/raw/OnlineRetail.csv', encoding='ISO-8859-1')\n",
    "\n",
    "# Remove rows with missing CustomerID\n",
    "df_raw = df_raw[df_raw['CustomerID'].notnull()]\n",
    "\n",
    "# Convert InvoiceDate to datetime\n",
    "df_raw['InvoiceDate'] = pd.to_datetime(df_raw['InvoiceDate'])\n",
    "\n",
    "# Remove rows where Quantity or UnitPrice is less than or equal to zero\n",
    "df_raw = df_raw[(df_raw['Quantity'] > 0) & (df_raw['UnitPrice'] > 0)]\n",
    "\n",
    "# Create a 'TotalPrice' column for each transaction\n",
    "df_raw['TotalPrice'] = df_raw['Quantity'] * df_raw['UnitPrice']\n",
    "\n",
    "# Aggregate the data to create customer-level metrics\n",
    "customer_data = df_raw.groupby('CustomerID').agg({\n",
    "    'InvoiceNo': 'nunique',       # Number of unique invoices (NumPurchases)\n",
    "    'Quantity': 'sum',            # Total quantity purchased (TotalQuantity)\n",
    "    'TotalPrice': 'sum'           # Total amount spent (TotalPrice)\n",
    "}).reset_index()\n",
    "\n",
    "# Rename the aggregated columns\n",
    "customer_data.rename(columns={\n",
    "    'InvoiceNo': 'NumPurchases', \n",
    "    'Quantity': 'TotalQuantity', \n",
    "    'TotalPrice': 'TotalPrice'\n",
    "}, inplace=True)\n",
    "\n",
    "# Save the aggregated customer data to the processed folder as a CSV\n",
    "output_path = '../data/processed/customer_data.csv'\n",
    "customer_data.to_csv(output_path, index=False)\n",
    "\n",
    "print(f\"Customer data successfully saved to {output_path}\")"
   ]
  },
  {
   "cell_type": "code",
   "execution_count": null,
   "metadata": {},
   "outputs": [],
   "source": []
  }
 ],
 "metadata": {
  "kernelspec": {
   "display_name": "Python 3",
   "language": "python",
   "name": "python3"
  },
  "language_info": {
   "codemirror_mode": {
    "name": "ipython",
    "version": 3
   },
   "file_extension": ".py",
   "mimetype": "text/x-python",
   "name": "python",
   "nbconvert_exporter": "python",
   "pygments_lexer": "ipython3",
   "version": "3.12.1"
  }
 },
 "nbformat": 4,
 "nbformat_minor": 2
}
